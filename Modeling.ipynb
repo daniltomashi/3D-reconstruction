{
 "cells": [
  {
   "cell_type": "code",
   "execution_count": 3,
   "id": "ac2058a2-79b6-44f1-a60f-370db7bdba7e",
   "metadata": {},
   "outputs": [],
   "source": [
    "import json\n",
    "import numpy as np\n",
    "import trimesh\n",
    "from utils.data_load import load_image, load_3d_model, visualize_data # our own utils"
   ]
  },
  {
   "cell_type": "markdown",
   "id": "73be0b68-4a82-4759-a743-cf216313f71c",
   "metadata": {},
   "source": [
    "# Get main data"
   ]
  },
  {
   "cell_type": "code",
   "execution_count": 4,
   "id": "387b4f33-f397-40cb-8e2d-5cf6713fc27c",
   "metadata": {},
   "outputs": [],
   "source": [
    "dir = \"data/pix3d\""
   ]
  },
  {
   "cell_type": "code",
   "execution_count": 5,
   "id": "1917946c-241b-467c-a190-b9a5ca3ac81e",
   "metadata": {},
   "outputs": [],
   "source": [
    "with open(f\"{dir}/pix3d.json\", \"rb\") as f:\n",
    "    metadata = json.load(f)"
   ]
  },
  {
   "cell_type": "code",
   "execution_count": 6,
   "id": "155e8eb9-8b9d-402d-9685-160646cabcce",
   "metadata": {},
   "outputs": [
    {
     "name": "stderr",
     "output_type": "stream",
     "text": [
      "C:\\Users\\laxon\\AppData\\Local\\Temp\\ipykernel_2100\\2954166473.py:13: DeprecationWarning: `Scene.dump(concatenate=True)` DEPRECATED FOR REMOVAL APRIL 2025: replace with `Scene.to_geometry()`\n",
      "  model_img = model_img.dump(concatenate=True)\n"
     ]
    }
   ],
   "source": [
    "imgs, masks, models = [], [], []\n",
    "for i in range(len(metadata)):\n",
    "    img_path = dir+'/'+metadata[i][\"img\"]\n",
    "    mask_path = dir+'/'+metadata[i][\"mask\"]\n",
    "    model_path = dir+'/'+metadata[i][\"model\"]\n",
    "\n",
    "    # take actual img, mask and model\n",
    "    img, mask = load_image(img_path, mask_path)\n",
    "    model_img = load_3d_model(model_path)\n",
    "\n",
    "    # combine all geometries, if this is a scene\n",
    "    if isinstance(model_img, trimesh.Scene):\n",
    "        model_img = model_img.dump(concatenate=True)\n",
    "    else:\n",
    "        model_img = model_img\n",
    "\n",
    "    imgs.append(img)\n",
    "    masks.append(mask)\n",
    "    models.append(model_img)\n",
    "    \n",
    "    break"
   ]
  }
 ],
 "metadata": {
  "kernelspec": {
   "display_name": "Python 3 (ipykernel)",
   "language": "python",
   "name": "python3"
  },
  "language_info": {
   "codemirror_mode": {
    "name": "ipython",
    "version": 3
   },
   "file_extension": ".py",
   "mimetype": "text/x-python",
   "name": "python",
   "nbconvert_exporter": "python",
   "pygments_lexer": "ipython3",
   "version": "3.10.5"
  }
 },
 "nbformat": 4,
 "nbformat_minor": 5
}
